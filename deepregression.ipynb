{
  "cells": [
    {
      "cell_type": "markdown",
      "metadata": {
        "id": "view-in-github",
        "colab_type": "text"
      },
      "source": [
        "<a href=\"https://colab.research.google.com/github/radmehr33/AItutor/blob/main/deepregression.ipynb\" target=\"_parent\"><img src=\"https://colab.research.google.com/assets/colab-badge.svg\" alt=\"Open In Colab\"/></a>"
      ]
    },
    {
      "cell_type": "code",
      "source": [
        "import tensorflow as tf\n",
        "import numpy as np\n",
        "import matplotlib.pyplot as plt\n"
      ],
      "metadata": {
        "id": "c5DP-BWPLE50"
      },
      "execution_count": 3,
      "outputs": []
    },
    {
      "cell_type": "code",
      "source": [
        "x = np.array([0,7,14,21,28,35,42])\n",
        "y = np.array([3,10,17,24,31,38,45])\n",
        "plt.plot(x,y)\n",
        "plt.show()"
      ],
      "metadata": {
        "id": "KFHmaQqKL1KR",
        "outputId": "d5d564ee-3874-4cae-ae28-72b3590e7201",
        "colab": {
          "base_uri": "https://localhost:8080/",
          "height": 430
        }
      },
      "execution_count": 7,
      "outputs": [
        {
          "output_type": "display_data",
          "data": {
            "text/plain": [
              "<Figure size 640x480 with 1 Axes>"
            ],
            "image/png": "[encoded data removed]"
          },
          "metadata": {}
        }
      ]
    },
    {
      "cell_type": "code",
      "source": [
        "x = tf.cast(tf.constant(x), dtype= tf.float32 )\n",
        "y = tf.cast(tf.constant(y),dtype=tf.float32 )"
      ],
      "metadata": {
        "id": "B80_3O0EPUMa"
      },
      "execution_count": 21,
      "outputs": []
    },
    {
      "cell_type": "code",
      "source": [
        "tf.random.set_seed(42)\n",
        "x = tf.reshape(x, (-1, 1))\n",
        "\n",
        "model = tf.keras.Sequential([tf.keras.layers.Dense(1)])\n",
        "model.compile( loss=tf.keras.losses.mae\n",
        "              ,optimizer=tf.keras.optimizers.SGD(),\n",
        "              metrics= [\"mae\"] )\n",
        "model.fit(x,y, epochs=5)\n"
      ],
      "metadata": {
        "id": "ZrU7tXNLPs7e",
        "outputId": "e0481e77-83e0-438f-eecb-771cd4b4ac10",
        "colab": {
          "base_uri": "https://localhost:8080/"
        }
      },
      "execution_count": 24,
      "outputs": [
        {
          "output_type": "stream",
          "name": "stdout",
          "text": [
            "Epoch 1/5\n",
            "1/1 [==============================] - 1s 954ms/step - loss: 38.1394 - mae: 38.1394\n",
            "Epoch 2/5\n",
            "1/1 [==============================] - 0s 20ms/step - loss: 33.7194 - mae: 33.7194\n",
            "Epoch 3/5\n",
            "1/1 [==============================] - 0s 20ms/step - loss: 29.2994 - mae: 29.2994\n",
            "Epoch 4/5\n",
            "1/1 [==============================] - 0s 26ms/step - loss: 24.8794 - mae: 24.8794\n",
            "Epoch 5/5\n",
            "1/1 [==============================] - 0s 19ms/step - loss: 20.4594 - mae: 20.4594\n"
          ]
        },
        {
          "output_type": "execute_result",
          "data": {
            "text/plain": [
              "<keras.callbacks.History at 0x7fc8c548f9d0>"
            ]
          },
          "metadata": {},
          "execution_count": 24
        }
      ]
    }
  ],
  "metadata": {
    "colab": {
      "name": "Welcome To Colaboratory",
      "toc_visible": true,
      "provenance": [],
      "include_colab_link": true
    },
    "kernelspec": {
      "display_name": "Python 3",
      "name": "python3"
    }
  },
  "nbformat": 4,
  "nbformat_minor": 0
}